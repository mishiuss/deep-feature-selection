{
 "cells": [
  {
   "cell_type": "code",
   "execution_count": 1,
   "metadata": {
    "colab": {},
    "colab_type": "code",
    "id": "AMJZ55AWgBH7"
   },
   "outputs": [],
   "source": [
    "import random\n",
    "import os\n",
    "import numpy as np\n",
    "import pandas as pd\n",
    "from matplotlib import pyplot as plt\n",
    "%matplotlib inline\n",
    "import seaborn as sns\n",
    "plt.style.use('seaborn')\n",
    "from sklearn.model_selection import train_test_split\n",
    "from scipy import sparse\n",
    "import torch\n",
    "import torch.nn as nn\n",
    "import torch.nn.functional as F\n",
    "from functools import reduce\n",
    "from sklearn.preprocessing import StandardScaler\n",
    "from feature_selector import FeatureSelector"
   ]
  },
  {
   "cell_type": "code",
   "execution_count": 2,
   "metadata": {
    "colab": {},
    "colab_type": "code",
    "id": "8h2VOeSHQywx"
   },
   "outputs": [],
   "source": [
    "PATH = 'train.csv'"
   ]
  },
  {
   "cell_type": "code",
   "execution_count": 3,
   "metadata": {
    "colab": {},
    "colab_type": "code",
    "id": "1Z7-D9LZGwj6"
   },
   "outputs": [],
   "source": [
    "def seed_everything(seed):\n",
    "    random.seed(seed)\n",
    "    os.environ['PYTHONHASHSEED'] = str(seed)\n",
    "    np.random.seed(seed)\n",
    "    torch.manual_seed(seed)\n",
    "    torch.cuda.manual_seed(seed)\n",
    "    torch.backends.cudnn.deterministic = True\n",
    "\n",
    "SEED = 666\n",
    "seed_everything(SEED)"
   ]
  },
  {
   "cell_type": "code",
   "execution_count": 4,
   "metadata": {
    "colab": {
     "base_uri": "https://localhost:8080/",
     "height": 287
    },
    "colab_type": "code",
    "executionInfo": {
     "elapsed": 1305,
     "status": "ok",
     "timestamp": 1561390297043,
     "user": {
      "displayName": "Ольга Ильясова",
      "photoUrl": "https://lh5.googleusercontent.com/-mh-NAZZb6MI/AAAAAAAAAAI/AAAAAAAAJnU/HnY6p_kTvjU/s64/photo.jpg",
      "userId": "14806661162776024925"
     },
     "user_tz": -180
    },
    "id": "BrKM04Z9gY2l",
    "outputId": "8f21cfbc-431f-44a7-9927-2f588b17aee0"
   },
   "outputs": [
    {
     "name": "stdout",
     "output_type": "stream",
     "text": [
      "(1105, 1525)\n"
     ]
    },
    {
     "data": {
      "text/html": [
       "<div>\n",
       "<style scoped>\n",
       "    .dataframe tbody tr th:only-of-type {\n",
       "        vertical-align: middle;\n",
       "    }\n",
       "\n",
       "    .dataframe tbody tr th {\n",
       "        vertical-align: top;\n",
       "    }\n",
       "\n",
       "    .dataframe thead th {\n",
       "        text-align: right;\n",
       "    }\n",
       "</style>\n",
       "<table border=\"1\" class=\"dataframe\">\n",
       "  <thead>\n",
       "    <tr style=\"text-align: right;\">\n",
       "      <th></th>\n",
       "      <th>feature-0</th>\n",
       "      <th>feature-1</th>\n",
       "      <th>feature-2</th>\n",
       "      <th>feature-3</th>\n",
       "      <th>feature-4</th>\n",
       "      <th>feature-5</th>\n",
       "      <th>feature-6</th>\n",
       "      <th>feature-7</th>\n",
       "      <th>feature-8</th>\n",
       "      <th>feature-9</th>\n",
       "      <th>...</th>\n",
       "      <th>feature-1515</th>\n",
       "      <th>feature-1516</th>\n",
       "      <th>feature-1517</th>\n",
       "      <th>feature-1518</th>\n",
       "      <th>feature-1519</th>\n",
       "      <th>feature-1520</th>\n",
       "      <th>feature-1521</th>\n",
       "      <th>feature-1522</th>\n",
       "      <th>feature-1523</th>\n",
       "      <th>y</th>\n",
       "    </tr>\n",
       "  </thead>\n",
       "  <tbody>\n",
       "    <tr>\n",
       "      <th>0</th>\n",
       "      <td>37.977273</td>\n",
       "      <td>6.758452</td>\n",
       "      <td>3.636364</td>\n",
       "      <td>10.792929</td>\n",
       "      <td>160.801682</td>\n",
       "      <td>151.109783</td>\n",
       "      <td>1.791689</td>\n",
       "      <td>6.818675</td>\n",
       "      <td>8.138413</td>\n",
       "      <td>8.270161</td>\n",
       "      <td>...</td>\n",
       "      <td>5.658393</td>\n",
       "      <td>4.151040</td>\n",
       "      <td>4.540632</td>\n",
       "      <td>4.953183</td>\n",
       "      <td>5.351562</td>\n",
       "      <td>5.311048</td>\n",
       "      <td>5.560922</td>\n",
       "      <td>5.643015</td>\n",
       "      <td>5.715999</td>\n",
       "      <td>0.0</td>\n",
       "    </tr>\n",
       "    <tr>\n",
       "      <th>1</th>\n",
       "      <td>19.408163</td>\n",
       "      <td>5.933978</td>\n",
       "      <td>2.816327</td>\n",
       "      <td>5.877551</td>\n",
       "      <td>162.949911</td>\n",
       "      <td>76.153796</td>\n",
       "      <td>1.381401</td>\n",
       "      <td>6.002651</td>\n",
       "      <td>5.080499</td>\n",
       "      <td>7.514421</td>\n",
       "      <td>...</td>\n",
       "      <td>4.830811</td>\n",
       "      <td>3.817712</td>\n",
       "      <td>4.123094</td>\n",
       "      <td>4.426343</td>\n",
       "      <td>4.823804</td>\n",
       "      <td>4.652173</td>\n",
       "      <td>4.795274</td>\n",
       "      <td>4.860781</td>\n",
       "      <td>5.001426</td>\n",
       "      <td>0.0</td>\n",
       "    </tr>\n",
       "    <tr>\n",
       "      <th>2</th>\n",
       "      <td>40.265306</td>\n",
       "      <td>7.425645</td>\n",
       "      <td>3.734694</td>\n",
       "      <td>13.160998</td>\n",
       "      <td>172.099640</td>\n",
       "      <td>161.790879</td>\n",
       "      <td>1.603976</td>\n",
       "      <td>7.410120</td>\n",
       "      <td>10.114794</td>\n",
       "      <td>8.805738</td>\n",
       "      <td>...</td>\n",
       "      <td>6.397659</td>\n",
       "      <td>4.223177</td>\n",
       "      <td>4.685597</td>\n",
       "      <td>5.116870</td>\n",
       "      <td>5.333926</td>\n",
       "      <td>5.504569</td>\n",
       "      <td>5.797956</td>\n",
       "      <td>6.009581</td>\n",
       "      <td>6.200889</td>\n",
       "      <td>0.0</td>\n",
       "    </tr>\n",
       "    <tr>\n",
       "      <th>3</th>\n",
       "      <td>43.976744</td>\n",
       "      <td>7.648293</td>\n",
       "      <td>3.837209</td>\n",
       "      <td>14.392765</td>\n",
       "      <td>168.885456</td>\n",
       "      <td>175.277251</td>\n",
       "      <td>1.622298</td>\n",
       "      <td>7.629033</td>\n",
       "      <td>12.180817</td>\n",
       "      <td>9.070719</td>\n",
       "      <td>...</td>\n",
       "      <td>5.879135</td>\n",
       "      <td>4.280132</td>\n",
       "      <td>4.563045</td>\n",
       "      <td>5.007714</td>\n",
       "      <td>5.159773</td>\n",
       "      <td>5.393628</td>\n",
       "      <td>5.640132</td>\n",
       "      <td>5.472271</td>\n",
       "      <td>5.741399</td>\n",
       "      <td>0.0</td>\n",
       "    </tr>\n",
       "    <tr>\n",
       "      <th>4</th>\n",
       "      <td>24.320988</td>\n",
       "      <td>6.534011</td>\n",
       "      <td>3.567901</td>\n",
       "      <td>8.913580</td>\n",
       "      <td>163.076959</td>\n",
       "      <td>96.019681</td>\n",
       "      <td>1.380679</td>\n",
       "      <td>6.566695</td>\n",
       "      <td>4.417010</td>\n",
       "      <td>8.058783</td>\n",
       "      <td>...</td>\n",
       "      <td>8.148663</td>\n",
       "      <td>4.624973</td>\n",
       "      <td>5.173321</td>\n",
       "      <td>5.720312</td>\n",
       "      <td>6.259342</td>\n",
       "      <td>6.626469</td>\n",
       "      <td>7.062406</td>\n",
       "      <td>7.472998</td>\n",
       "      <td>7.829842</td>\n",
       "      <td>0.0</td>\n",
       "    </tr>\n",
       "  </tbody>\n",
       "</table>\n",
       "<p>5 rows × 1525 columns</p>\n",
       "</div>"
      ],
      "text/plain": [
       "   feature-0  feature-1  feature-2  feature-3   feature-4   feature-5  \\\n",
       "0  37.977273   6.758452   3.636364  10.792929  160.801682  151.109783   \n",
       "1  19.408163   5.933978   2.816327   5.877551  162.949911   76.153796   \n",
       "2  40.265306   7.425645   3.734694  13.160998  172.099640  161.790879   \n",
       "3  43.976744   7.648293   3.837209  14.392765  168.885456  175.277251   \n",
       "4  24.320988   6.534011   3.567901   8.913580  163.076959   96.019681   \n",
       "\n",
       "   feature-6  feature-7  feature-8  feature-9  ...  feature-1515  \\\n",
       "0   1.791689   6.818675   8.138413   8.270161  ...      5.658393   \n",
       "1   1.381401   6.002651   5.080499   7.514421  ...      4.830811   \n",
       "2   1.603976   7.410120  10.114794   8.805738  ...      6.397659   \n",
       "3   1.622298   7.629033  12.180817   9.070719  ...      5.879135   \n",
       "4   1.380679   6.566695   4.417010   8.058783  ...      8.148663   \n",
       "\n",
       "   feature-1516  feature-1517  feature-1518  feature-1519  feature-1520  \\\n",
       "0      4.151040      4.540632      4.953183      5.351562      5.311048   \n",
       "1      3.817712      4.123094      4.426343      4.823804      4.652173   \n",
       "2      4.223177      4.685597      5.116870      5.333926      5.504569   \n",
       "3      4.280132      4.563045      5.007714      5.159773      5.393628   \n",
       "4      4.624973      5.173321      5.720312      6.259342      6.626469   \n",
       "\n",
       "   feature-1521  feature-1522  feature-1523    y  \n",
       "0      5.560922      5.643015      5.715999  0.0  \n",
       "1      4.795274      4.860781      5.001426  0.0  \n",
       "2      5.797956      6.009581      6.200889  0.0  \n",
       "3      5.640132      5.472271      5.741399  0.0  \n",
       "4      7.062406      7.472998      7.829842  0.0  \n",
       "\n",
       "[5 rows x 1525 columns]"
      ]
     },
     "execution_count": 4,
     "metadata": {},
     "output_type": "execute_result"
    }
   ],
   "source": [
    "df = pd.read_csv(PATH)\n",
    "print(df.shape)\n",
    "df.head()"
   ]
  },
  {
   "cell_type": "code",
   "execution_count": 5,
   "metadata": {
    "colab": {
     "base_uri": "https://localhost:8080/",
     "height": 119
    },
    "colab_type": "code",
    "executionInfo": {
     "elapsed": 598,
     "status": "ok",
     "timestamp": 1561390300521,
     "user": {
      "displayName": "Ольга Ильясова",
      "photoUrl": "https://lh5.googleusercontent.com/-mh-NAZZb6MI/AAAAAAAAAAI/AAAAAAAAJnU/HnY6p_kTvjU/s64/photo.jpg",
      "userId": "14806661162776024925"
     },
     "user_tz": -180
    },
    "id": "lzGvwroWyrCy",
    "outputId": "bfedfdfd-2a56-48fa-eccc-985b78e88ed4"
   },
   "outputs": [
    {
     "name": "stdout",
     "output_type": "stream",
     "text": [
      "nan: 0\n",
      "null: 0\n",
      "target:\n",
      " 1.0    790\n",
      "0.0    315\n",
      "Name: y, dtype: int64\n"
     ]
    }
   ],
   "source": [
    "print ('nan:',df.isna().sum().sum()) #check\n",
    "print ('null:',df.isnull().sum().sum())\n",
    "print ('target:\\n',df.y.value_counts())"
   ]
  },
  {
   "cell_type": "markdown",
   "metadata": {
    "colab_type": "text",
    "id": "2lUwBTHgysEd"
   },
   "source": [
    "Решаем задачу банирной классификации. Количество объектов одного класса в два раза больше другого, можем попробовать accuracy"
   ]
  },
  {
   "cell_type": "markdown",
   "metadata": {
    "colab_type": "text",
    "id": "G_pkPX-v3tNB"
   },
   "source": [
    "Удалим сильно коррелирующие признаки с помощью FeatureSelector bhttps://github.com/WillKoehrsen/feature-selector, отскейлим и уберем константные"
   ]
  },
  {
   "cell_type": "code",
   "execution_count": 6,
   "metadata": {
    "colab": {
     "base_uri": "https://localhost:8080/",
     "height": 68
    },
    "colab_type": "code",
    "executionInfo": {
     "elapsed": 9298,
     "status": "ok",
     "timestamp": 1561390362357,
     "user": {
      "displayName": "Ольга Ильясова",
      "photoUrl": "https://lh5.googleusercontent.com/-mh-NAZZb6MI/AAAAAAAAAAI/AAAAAAAAJnU/HnY6p_kTvjU/s64/photo.jpg",
      "userId": "14806661162776024925"
     },
     "user_tz": -180
    },
    "id": "IGuLoGWLZjEK",
    "outputId": "33c844b8-b777-4db1-fb76-f63ef62a6449"
   },
   "outputs": [
    {
     "name": "stdout",
     "output_type": "stream",
     "text": [
      "794 features with a correlation magnitude greater than 0.90.\n",
      "\n"
     ]
    },
    {
     "data": {
      "text/plain": [
       "(1105, 602)"
      ]
     },
     "execution_count": 6,
     "metadata": {},
     "output_type": "execute_result"
    }
   ],
   "source": [
    "X = df.drop('y', axis = 1)\n",
    "y = df.y\n",
    "\n",
    "scaled = StandardScaler().fit_transform(X)\n",
    "X =  pd.DataFrame(scaled, index=X.index, columns=X.columns)\n",
    "\n",
    "fs = FeatureSelector(data = X, labels = y)\n",
    "fs.identify_collinear(correlation_threshold = 0.9)\n",
    "\n",
    "collinear_features = fs.ops['collinear']\n",
    "X = X.drop(collinear_features, axis = 1)\n",
    "\n",
    "X = X.loc[:, (df != df.iloc[0]).any()]\n",
    "\n",
    "X.shape"
   ]
  },
  {
   "cell_type": "code",
   "execution_count": 7,
   "metadata": {
    "colab": {
     "base_uri": "https://localhost:8080/",
     "height": 34
    },
    "colab_type": "code",
    "executionInfo": {
     "elapsed": 615,
     "status": "ok",
     "timestamp": 1561390392271,
     "user": {
      "displayName": "Ольга Ильясова",
      "photoUrl": "https://lh5.googleusercontent.com/-mh-NAZZb6MI/AAAAAAAAAAI/AAAAAAAAJnU/HnY6p_kTvjU/s64/photo.jpg",
      "userId": "14806661162776024925"
     },
     "user_tz": -180
    },
    "id": "zEgKo82nF_7h",
    "outputId": "c21094ea-9af0-4b16-9c2e-944f829ed8e3"
   },
   "outputs": [
    {
     "data": {
      "text/plain": [
       "((884, 602), (221, 602))"
      ]
     },
     "execution_count": 7,
     "metadata": {},
     "output_type": "execute_result"
    }
   ],
   "source": [
    "X_train, X_val, y_train, y_val = train_test_split(X, y,test_size=0.2,random_state=SEED,stratify=y)\n",
    "X_train.shape, X_val.shape"
   ]
  },
  {
   "cell_type": "markdown",
   "metadata": {
    "colab_type": "text",
    "id": "sj_3uJ1-hVGe"
   },
   "source": [
    "# Feature Selection"
   ]
  },
  {
   "cell_type": "markdown",
   "metadata": {
    "colab_type": "text",
    "id": "Gppwtb4lWQpp"
   },
   "source": [
    "## Deep Feature Selection\n"
   ]
  },
  {
   "cell_type": "markdown",
   "metadata": {
    "colab_type": "text",
    "id": "7mlxXPuMZgwV"
   },
   "source": [
    "### Staff"
   ]
  },
  {
   "cell_type": "code",
   "execution_count": 8,
   "metadata": {
    "colab": {},
    "colab_type": "code",
    "id": "aOjfzQ9vbHe_"
   },
   "outputs": [],
   "source": [
    "def compute_loss( true, prediction, weights,\n",
    "                     lambda1=0, lambda2=0, alpha1=0, alpha2=0):\n",
    "        \n",
    "        l1w, l2w, n_w, l1net, l2net, n_net = [torch.tensor(0.).cuda()] * 6   \n",
    "        weights = weights[true.data.view(-1).long()].view_as(true).cuda()\n",
    "        loss = F.binary_cross_entropy(prediction, true, reduction='none')\n",
    "        \n",
    "        return loss.mean() + lambda1 * ((1 - lambda2) / 2 * l2w + lambda2 * l1w) + alpha1 * (\n",
    "            (1 - lambda2) / 2 * l2net + lambda2 * l1net)\n",
    "\n",
    "def data_loader(X, y, batchsize, shuffle=True):\n",
    "    X = X.values\n",
    "    indices = np.arange(len(X))\n",
    "    y = y.values\n",
    "    if shuffle:\n",
    "        indices = np.random.permutation(indices)\n",
    "    for start in range(0, len(indices), batchsize):\n",
    "        ix = indices[start: start + batchsize]\n",
    "        yield torch.FloatTensor(X[ix]), torch.FloatTensor(y[ix])\n",
    "\n",
    "        \n",
    "class Weight_Layer(nn.Module):\n",
    "    def __init__(self, size):\n",
    "        super(Weight_Layer, self).__init__()\n",
    "        self.weights = nn.Parameter(torch.ones(size, requires_grad=True))    \n",
    "    def forward(self, x):\n",
    "        return x * self.weights\n",
    "      \n",
    "def init_weights(m):\n",
    "    if type(m) == nn.Linear:\n",
    "        torch.nn.init.xavier_uniform_(m.weight)\n",
    "        m.bias.data.fill_(0.01)"
   ]
  },
  {
   "cell_type": "markdown",
   "metadata": {
    "colab_type": "text",
    "id": "P36ZxrRo_2Fe"
   },
   "source": [
    "### Model"
   ]
  },
  {
   "cell_type": "code",
   "execution_count": 14,
   "metadata": {
    "colab": {
     "base_uri": "https://localhost:8080/",
     "height": 238
    },
    "colab_type": "code",
    "executionInfo": {
     "elapsed": 4651,
     "status": "ok",
     "timestamp": 1561390438658,
     "user": {
      "displayName": "Ольга Ильясова",
      "photoUrl": "https://lh5.googleusercontent.com/-mh-NAZZb6MI/AAAAAAAAAAI/AAAAAAAAJnU/HnY6p_kTvjU/s64/photo.jpg",
      "userId": "14806661162776024925"
     },
     "user_tz": -180
    },
    "id": "1Zz_ZHj8WqJQ",
    "outputId": "15e51fa5-37ac-4c12-f725-523e42f77125"
   },
   "outputs": [
    {
     "data": {
      "text/plain": [
       "Sequential(\n",
       "  (0): Weight_Layer()\n",
       "  (1): Linear(in_features=602, out_features=16, bias=True)\n",
       "  (2): BatchNorm1d(16, eps=1e-05, momentum=0.1, affine=True, track_running_stats=True)\n",
       "  (3): Dropout(p=0.5)\n",
       "  (4): ReLU(inplace)\n",
       "  (5): Linear(in_features=16, out_features=4, bias=True)\n",
       "  (6): BatchNorm1d(4, eps=1e-05, momentum=0.1, affine=True, track_running_stats=True)\n",
       "  (7): Dropout(p=0.25)\n",
       "  (8): ReLU(inplace)\n",
       "  (9): Linear(in_features=4, out_features=1, bias=True)\n",
       "  (10): Sigmoid()\n",
       ")"
      ]
     },
     "execution_count": 14,
     "metadata": {},
     "output_type": "execute_result"
    }
   ],
   "source": [
    "in_features = X.shape[1]\n",
    "weighting = Weight_Layer(in_features)\n",
    "\n",
    "DFS_Net = nn.Sequential(\n",
    "            weighting, \n",
    "            nn.Linear(in_features, 16),\n",
    "            nn.BatchNorm1d(16),\n",
    "            nn.Dropout(0.5),\n",
    "            nn.ReLU(inplace=True),\n",
    "            nn.Linear(16, 4), \n",
    "            nn.BatchNorm1d(4),\n",
    "            nn.Dropout(0.25),\n",
    "            nn.ReLU(inplace=True),\n",
    "            nn.Linear(4, 1),\n",
    "            nn.Sigmoid() \n",
    "         )\n",
    "DFS_Net.apply(init_weights)\n",
    "\n",
    "model = DFS_Net\n",
    "model.cuda()"
   ]
  },
  {
   "cell_type": "markdown",
   "metadata": {
    "colab_type": "text",
    "id": "ueTtMRQgAVQG"
   },
   "source": [
    "### Training"
   ]
  },
  {
   "cell_type": "code",
   "execution_count": 15,
   "metadata": {
    "colab": {
     "base_uri": "https://localhost:8080/",
     "height": 395
    },
    "colab_type": "code",
    "executionInfo": {
     "elapsed": 31239,
     "status": "ok",
     "timestamp": 1561390476932,
     "user": {
      "displayName": "Ольга Ильясова",
      "photoUrl": "https://lh5.googleusercontent.com/-mh-NAZZb6MI/AAAAAAAAAAI/AAAAAAAAJnU/HnY6p_kTvjU/s64/photo.jpg",
      "userId": "14806661162776024925"
     },
     "user_tz": -180
    },
    "id": "aR5rqDwqEUmd",
    "outputId": "79656ba9-5990-439f-cb2f-69c8666473a1"
   },
   "outputs": [
    {
     "name": "stdout",
     "output_type": "stream",
     "text": [
      "best_epoch 298\n",
      "best_loss 0.3817\n"
     ]
    },
    {
     "data": {
      "image/png": "[encoded data removed]",
      "text/plain": [
       "<Figure size 432x288 with 1 Axes>"
      ]
     },
     "metadata": {
      "needs_background": "light"
     },
     "output_type": "display_data"
    }
   ],
   "source": [
    "lambda1=2\n",
    "lambda2=1\n",
    "alpha1=0\n",
    "alpha2=0\n",
    "\n",
    "num_epoch=300\n",
    "batchsize=32\n",
    "\n",
    "abs_coefs = []\n",
    "\n",
    "\n",
    "opt = torch.optim.Adam(model.parameters(), lr=0.0001, weight_decay=1e-5)\n",
    "scheduler = torch.optim.lr_scheduler.CosineAnnealingLR(opt, T_max = 50, eta_min=1e-8)\n",
    "\n",
    "\n",
    "weights = torch.tensor([y_train.size - y_train.sum() / y_train.size,\n",
    "             y_train.sum() / y_train.size]\n",
    "        )\n",
    "\n",
    "train_losses, val_losses = [], []\n",
    "best_loss = (float('inf'))\n",
    "best_epoch = -1\n",
    "best_weights = model.state_dict()\n",
    "\n",
    "for epoch_i in range(num_epoch):\n",
    "  \n",
    "    train_loss = train_batches = 0\n",
    "    model.train(True)\n",
    "    for X_batch, y_batch in data_loader(X_train, y_train, batchsize):\n",
    "        X_batch = X_batch.cuda()\n",
    "        y_batch = y_batch.cuda().view(-1,1)\n",
    "        prediction = model(X_batch)\n",
    "\n",
    "        loss = compute_loss(y_batch, prediction, weights,\n",
    "                             lambda1, lambda2, alpha1, alpha2)\n",
    "        loss.backward()\n",
    "        opt.step()\n",
    "        scheduler.step()\n",
    "        opt.zero_grad()\n",
    "        train_loss += loss.detach().data.cpu().numpy()\n",
    "        train_batches += 1\n",
    "\n",
    "    train_losses.append(train_loss / train_batches)\n",
    "    val_loss = val_batches = 0\n",
    "    model.train(False)\n",
    "          \n",
    "        \n",
    "    for X_batch, y_batch in data_loader(X_val, y_val, batchsize, shuffle=False):\n",
    "        X_batch = X_batch.detach().cuda()\n",
    "        y_batch = y_batch.detach().cuda().view(-1,1)  \n",
    "        prediction = model(X_batch)\n",
    "        loss = compute_loss(y_batch, prediction, weights,\n",
    "                             lambda1, lambda2, alpha1, alpha2)\n",
    "        val_loss += loss.detach().data.cpu().numpy()\n",
    "        val_batches += 1\n",
    "        \n",
    "    val_losses.append(val_loss / val_batches)\n",
    "\n",
    "  #print(\"Epoch {} - train_avg_loss: {:.5f}  val_avg_loss: {:.5f}  lr: {:0.6f} \".format(\n",
    "  #                epoch_i, (train_loss / train_batches), (val_loss / val_batches),\n",
    "  #    scheduler.get_lr()[0]))\n",
    "  \n",
    "    if val_losses[-1] < best_loss:\n",
    "        best_epoch = epoch_i\n",
    "        best_loss = val_losses[-1]\n",
    "        torch.save(model.state_dict(), 'weight_best.pt')\n",
    "    \n",
    "print('best_epoch', best_epoch)\n",
    "print('best_loss', round(best_loss,4))\n",
    "\n",
    "\n",
    "plt.xlabel('Epochs')\n",
    "plt.ylabel('Loss')\n",
    "plt.plot(train_losses, label='Training Loss')\n",
    "plt.plot(val_losses, label='Validation Loss')\n",
    "plt.legend(loc='best')\n",
    "plt.grid(True)\n",
    "plt.show()"
   ]
  },
  {
   "cell_type": "code",
   "execution_count": 16,
   "metadata": {
    "colab": {
     "base_uri": "https://localhost:8080/",
     "height": 326
    },
    "colab_type": "code",
    "executionInfo": {
     "elapsed": 609,
     "status": "ok",
     "timestamp": 1561390535355,
     "user": {
      "displayName": "Ольга Ильясова",
      "photoUrl": "https://lh5.googleusercontent.com/-mh-NAZZb6MI/AAAAAAAAAAI/AAAAAAAAJnU/HnY6p_kTvjU/s64/photo.jpg",
      "userId": "14806661162776024925"
     },
     "user_tz": -180
    },
    "id": "XZizIMCuhjh_",
    "outputId": "398766a6-7089-4dde-8daa-937ce0699b13"
   },
   "outputs": [
    {
     "data": {
      "text/html": [
       "<div>\n",
       "<style scoped>\n",
       "    .dataframe tbody tr th:only-of-type {\n",
       "        vertical-align: middle;\n",
       "    }\n",
       "\n",
       "    .dataframe tbody tr th {\n",
       "        vertical-align: top;\n",
       "    }\n",
       "\n",
       "    .dataframe thead th {\n",
       "        text-align: right;\n",
       "    }\n",
       "</style>\n",
       "<table border=\"1\" class=\"dataframe\">\n",
       "  <thead>\n",
       "    <tr style=\"text-align: right;\">\n",
       "      <th></th>\n",
       "      <th>feature-1460</th>\n",
       "      <th>feature-458</th>\n",
       "      <th>feature-545</th>\n",
       "      <th>feature-868</th>\n",
       "      <th>feature-803</th>\n",
       "      <th>feature-796</th>\n",
       "      <th>feature-823</th>\n",
       "      <th>feature-1424</th>\n",
       "      <th>feature-1001</th>\n",
       "      <th>feature-789</th>\n",
       "      <th>feature-331</th>\n",
       "      <th>feature-1013</th>\n",
       "      <th>feature-998</th>\n",
       "      <th>feature-649</th>\n",
       "      <th>feature-937</th>\n",
       "      <th>feature-782</th>\n",
       "      <th>feature-815</th>\n",
       "      <th>feature-140</th>\n",
       "      <th>feature-943</th>\n",
       "      <th>feature-982</th>\n",
       "    </tr>\n",
       "  </thead>\n",
       "  <tbody>\n",
       "    <tr>\n",
       "      <th>0</th>\n",
       "      <td>0.852490</td>\n",
       "      <td>-1.309345</td>\n",
       "      <td>-0.976275</td>\n",
       "      <td>-1.690036</td>\n",
       "      <td>4.954017e-15</td>\n",
       "      <td>0.0</td>\n",
       "      <td>-6.031806e-01</td>\n",
       "      <td>-0.18613</td>\n",
       "      <td>0.033677</td>\n",
       "      <td>0.041287</td>\n",
       "      <td>0.605184</td>\n",
       "      <td>-0.098200</td>\n",
       "      <td>-0.085397</td>\n",
       "      <td>-1.299448</td>\n",
       "      <td>-0.104422</td>\n",
       "      <td>-1.219663e-14</td>\n",
       "      <td>2.109088e-15</td>\n",
       "      <td>0.939610</td>\n",
       "      <td>-0.085397</td>\n",
       "      <td>-0.480117</td>\n",
       "    </tr>\n",
       "    <tr>\n",
       "      <th>1</th>\n",
       "      <td>0.852490</td>\n",
       "      <td>-1.366754</td>\n",
       "      <td>-2.068662</td>\n",
       "      <td>-1.165873</td>\n",
       "      <td>4.954017e-15</td>\n",
       "      <td>0.0</td>\n",
       "      <td>-2.971255e-01</td>\n",
       "      <td>-0.18613</td>\n",
       "      <td>-0.317004</td>\n",
       "      <td>-0.042577</td>\n",
       "      <td>-0.455531</td>\n",
       "      <td>-0.478424</td>\n",
       "      <td>-0.085397</td>\n",
       "      <td>0.769558</td>\n",
       "      <td>-0.104422</td>\n",
       "      <td>-1.219663e-14</td>\n",
       "      <td>2.109088e-15</td>\n",
       "      <td>-0.561244</td>\n",
       "      <td>-0.085397</td>\n",
       "      <td>-0.480117</td>\n",
       "    </tr>\n",
       "    <tr>\n",
       "      <th>2</th>\n",
       "      <td>3.606881</td>\n",
       "      <td>-1.309307</td>\n",
       "      <td>-0.538845</td>\n",
       "      <td>-1.935791</td>\n",
       "      <td>4.954017e-15</td>\n",
       "      <td>0.0</td>\n",
       "      <td>-6.020099e-01</td>\n",
       "      <td>-0.18613</td>\n",
       "      <td>0.762405</td>\n",
       "      <td>0.431334</td>\n",
       "      <td>1.083951</td>\n",
       "      <td>1.290963</td>\n",
       "      <td>-0.085397</td>\n",
       "      <td>-1.299448</td>\n",
       "      <td>-0.104422</td>\n",
       "      <td>-1.219663e-14</td>\n",
       "      <td>2.109088e-15</td>\n",
       "      <td>-0.005109</td>\n",
       "      <td>-0.085397</td>\n",
       "      <td>-0.480117</td>\n",
       "    </tr>\n",
       "    <tr>\n",
       "      <th>3</th>\n",
       "      <td>2.229686</td>\n",
       "      <td>-1.335437</td>\n",
       "      <td>0.444062</td>\n",
       "      <td>-1.916703</td>\n",
       "      <td>-5.700415e-01</td>\n",
       "      <td>0.0</td>\n",
       "      <td>-7.438807e-16</td>\n",
       "      <td>-0.18613</td>\n",
       "      <td>1.240767</td>\n",
       "      <td>0.136712</td>\n",
       "      <td>1.933193</td>\n",
       "      <td>-0.903208</td>\n",
       "      <td>-0.085397</td>\n",
       "      <td>-1.299448</td>\n",
       "      <td>-0.104422</td>\n",
       "      <td>-1.219663e-14</td>\n",
       "      <td>2.109088e-15</td>\n",
       "      <td>0.891202</td>\n",
       "      <td>-0.085397</td>\n",
       "      <td>-0.480117</td>\n",
       "    </tr>\n",
       "    <tr>\n",
       "      <th>4</th>\n",
       "      <td>-0.524705</td>\n",
       "      <td>-0.426017</td>\n",
       "      <td>-0.345892</td>\n",
       "      <td>0.363248</td>\n",
       "      <td>4.954017e-15</td>\n",
       "      <td>0.0</td>\n",
       "      <td>2.004399e+00</td>\n",
       "      <td>-0.18613</td>\n",
       "      <td>2.468606</td>\n",
       "      <td>1.224600</td>\n",
       "      <td>2.402267</td>\n",
       "      <td>1.875873</td>\n",
       "      <td>-0.085397</td>\n",
       "      <td>-1.299448</td>\n",
       "      <td>-0.104422</td>\n",
       "      <td>-1.219663e-14</td>\n",
       "      <td>2.109088e-15</td>\n",
       "      <td>0.423835</td>\n",
       "      <td>-0.085397</td>\n",
       "      <td>-0.480117</td>\n",
       "    </tr>\n",
       "  </tbody>\n",
       "</table>\n",
       "</div>"
      ],
      "text/plain": [
       "   feature-1460  feature-458  feature-545  feature-868   feature-803  \\\n",
       "0      0.852490    -1.309345    -0.976275    -1.690036  4.954017e-15   \n",
       "1      0.852490    -1.366754    -2.068662    -1.165873  4.954017e-15   \n",
       "2      3.606881    -1.309307    -0.538845    -1.935791  4.954017e-15   \n",
       "3      2.229686    -1.335437     0.444062    -1.916703 -5.700415e-01   \n",
       "4     -0.524705    -0.426017    -0.345892     0.363248  4.954017e-15   \n",
       "\n",
       "   feature-796   feature-823  feature-1424  feature-1001  feature-789  \\\n",
       "0          0.0 -6.031806e-01      -0.18613      0.033677     0.041287   \n",
       "1          0.0 -2.971255e-01      -0.18613     -0.317004    -0.042577   \n",
       "2          0.0 -6.020099e-01      -0.18613      0.762405     0.431334   \n",
       "3          0.0 -7.438807e-16      -0.18613      1.240767     0.136712   \n",
       "4          0.0  2.004399e+00      -0.18613      2.468606     1.224600   \n",
       "\n",
       "   feature-331  feature-1013  feature-998  feature-649  feature-937  \\\n",
       "0     0.605184     -0.098200    -0.085397    -1.299448    -0.104422   \n",
       "1    -0.455531     -0.478424    -0.085397     0.769558    -0.104422   \n",
       "2     1.083951      1.290963    -0.085397    -1.299448    -0.104422   \n",
       "3     1.933193     -0.903208    -0.085397    -1.299448    -0.104422   \n",
       "4     2.402267      1.875873    -0.085397    -1.299448    -0.104422   \n",
       "\n",
       "    feature-782   feature-815  feature-140  feature-943  feature-982  \n",
       "0 -1.219663e-14  2.109088e-15     0.939610    -0.085397    -0.480117  \n",
       "1 -1.219663e-14  2.109088e-15    -0.561244    -0.085397    -0.480117  \n",
       "2 -1.219663e-14  2.109088e-15    -0.005109    -0.085397    -0.480117  \n",
       "3 -1.219663e-14  2.109088e-15     0.891202    -0.085397    -0.480117  \n",
       "4 -1.219663e-14  2.109088e-15     0.423835    -0.085397    -0.480117  "
      ]
     },
     "execution_count": 16,
     "metadata": {},
     "output_type": "execute_result"
    }
   ],
   "source": [
    "coefs = np.abs(next(iter(weighting.parameters())).detach().cpu().numpy())\n",
    "feature_and_weight = sorted(zip(coefs, X.columns),\n",
    "                                key=lambda x: abs(x[0]),reverse=True)\n",
    "features_sorted = list(map(lambda x: x[1], feature_and_weight[-in_features:]))\n",
    "num_tops = 20\n",
    "tops = features_sorted [:num_tops]\n",
    "X[tops].head()"
   ]
  },
  {
   "cell_type": "markdown",
   "metadata": {
    "colab_type": "text",
    "id": "32NYLVCX67Nm"
   },
   "source": [
    "### Zero Importance Features\n",
    "Находит фичи нулевой важности с помощью LightGBM"
   ]
  },
  {
   "cell_type": "code",
   "execution_count": 20,
   "metadata": {
    "colab": {
     "base_uri": "https://localhost:8080/",
     "height": 612
    },
    "colab_type": "code",
    "executionInfo": {
     "elapsed": 282993,
     "status": "ok",
     "timestamp": 1561390836999,
     "user": {
      "displayName": "Ольга Ильясова",
      "photoUrl": "https://lh5.googleusercontent.com/-mh-NAZZb6MI/AAAAAAAAAAI/AAAAAAAAJnU/HnY6p_kTvjU/s64/photo.jpg",
      "userId": "14806661162776024925"
     },
     "user_tz": -180
    },
    "id": "NFSPcRxi7T7a",
    "outputId": "c29a9e38-47eb-421f-883b-b56998449ab3"
   },
   "outputs": [
    {
     "name": "stdout",
     "output_type": "stream",
     "text": [
      "Training Gradient Boosting Model\n",
      "\n",
      "\n",
      "158 features with zero importance after one-hot encoding.\n",
      "\n"
     ]
    }
   ],
   "source": [
    "# Pass in the appropriate parameters\n",
    "\n",
    "fs.identify_zero_importance(task = 'classification', \n",
    "                            eval_metric = 'accuracy', \n",
    "                            n_iterations = 10, \n",
    "                            early_stopping = False)\n",
    "# list of zero importance features\n",
    "zero_importance_features = fs.ops['zero_importance']"
   ]
  },
  {
   "cell_type": "code",
   "execution_count": 21,
   "metadata": {
    "colab": {
     "base_uri": "https://localhost:8080/",
     "height": 976
    },
    "colab_type": "code",
    "executionInfo": {
     "elapsed": 1751,
     "status": "ok",
     "timestamp": 1561391087884,
     "user": {
      "displayName": "Ольга Ильясова",
      "photoUrl": "https://lh5.googleusercontent.com/-mh-NAZZb6MI/AAAAAAAAAAI/AAAAAAAAJnU/HnY6p_kTvjU/s64/photo.jpg",
      "userId": "14806661162776024925"
     },
     "user_tz": -180
    },
    "id": "u7lMr0N0E1jj",
    "outputId": "87365354-66aa-449f-d02f-27a072e1b151"
   },
   "outputs": [
    {
     "data": {
      "image/png": "[encoded data removed]",
      "text/plain": [
       "<Figure size 1000x600 with 1 Axes>"
      ]
     },
     "metadata": {},
     "output_type": "display_data"
    },
    {
     "data": {
      "image/png": "[encoded data removed]",
      "text/plain": [
       "<Figure size 600x400 with 1 Axes>"
      ]
     },
     "metadata": {},
     "output_type": "display_data"
    },
    {
     "name": "stdout",
     "output_type": "stream",
     "text": [
      "405 features required for 0.99 of cumulative importance\n"
     ]
    }
   ],
   "source": [
    "# plot the feature importances\n",
    "fs.plot_feature_importances(threshold = 0.99, plot_n = 30)"
   ]
  },
  {
   "cell_type": "markdown",
   "metadata": {
    "colab_type": "text",
    "id": "mTutP59VD4m3"
   },
   "source": [
    "### Low Importance Features"
   ]
  },
  {
   "cell_type": "code",
   "execution_count": 22,
   "metadata": {
    "colab": {
     "base_uri": "https://localhost:8080/",
     "height": 68
    },
    "colab_type": "code",
    "executionInfo": {
     "elapsed": 566,
     "status": "ok",
     "timestamp": 1561391087888,
     "user": {
      "displayName": "Ольга Ильясова",
      "photoUrl": "https://lh5.googleusercontent.com/-mh-NAZZb6MI/AAAAAAAAAAI/AAAAAAAAJnU/HnY6p_kTvjU/s64/photo.jpg",
      "userId": "14806661162776024925"
     },
     "user_tz": -180
    },
    "id": "l660x1f2DiGc",
    "outputId": "35474a1a-7c19-4a24-c621-1ad24b8c16f5"
   },
   "outputs": [
    {
     "name": "stdout",
     "output_type": "stream",
     "text": [
      "404 features required for cumulative importance of 0.99 after one hot encoding.\n",
      "198 features do not contribute to cumulative importance of 0.99.\n",
      "\n"
     ]
    }
   ],
   "source": [
    "fs.identify_low_importance(cumulative_importance = 0.99)"
   ]
  },
  {
   "cell_type": "markdown",
   "metadata": {
    "colab_type": "text",
    "id": "07ZM0PLRFevc"
   },
   "source": [
    "### Removing Features"
   ]
  },
  {
   "cell_type": "code",
   "execution_count": 23,
   "metadata": {
    "colab": {
     "base_uri": "https://localhost:8080/",
     "height": 68
    },
    "colab_type": "code",
    "executionInfo": {
     "elapsed": 577,
     "status": "ok",
     "timestamp": 1561391089273,
     "user": {
      "displayName": "Ольга Ильясова",
      "photoUrl": "https://lh5.googleusercontent.com/-mh-NAZZb6MI/AAAAAAAAAAI/AAAAAAAAJnU/HnY6p_kTvjU/s64/photo.jpg",
      "userId": "14806661162776024925"
     },
     "user_tz": -180
    },
    "id": "0LRkVPEeFd3B",
    "outputId": "ff18e59b-8d5f-4c47-868b-0467ad387293"
   },
   "outputs": [
    {
     "name": "stdout",
     "output_type": "stream",
     "text": [
      "['zero_importance', 'low_importance'] methods have been run\n",
      "\n",
      "Removed 198 features including one-hot features.\n"
     ]
    }
   ],
   "source": [
    "X_removed_FS = fs.remove(methods = 'all', keep_one_hot=False)"
   ]
  },
  {
   "cell_type": "code",
   "execution_count": 24,
   "metadata": {
    "colab": {
     "base_uri": "https://localhost:8080/",
     "height": 34
    },
    "colab_type": "code",
    "executionInfo": {
     "elapsed": 563,
     "status": "ok",
     "timestamp": 1561391090008,
     "user": {
      "displayName": "Ольга Ильясова",
      "photoUrl": "https://lh5.googleusercontent.com/-mh-NAZZb6MI/AAAAAAAAAAI/AAAAAAAAJnU/HnY6p_kTvjU/s64/photo.jpg",
      "userId": "14806661162776024925"
     },
     "user_tz": -180
    },
    "id": "Uz-1jBTiDorC",
    "outputId": "978d4221-8bab-4b28-ca20-56e3b2d90123"
   },
   "outputs": [
    {
     "data": {
      "text/plain": [
       "(1105, 404)"
      ]
     },
     "execution_count": 24,
     "metadata": {},
     "output_type": "execute_result"
    }
   ],
   "source": [
    "X_removed_FS.shape"
   ]
  },
  {
   "cell_type": "markdown",
   "metadata": {
    "colab_type": "text",
    "id": "XbzHQExXY2UE"
   },
   "source": [
    "# Final Models"
   ]
  },
  {
   "cell_type": "code",
   "execution_count": 25,
   "metadata": {
    "colab": {},
    "colab_type": "code",
    "id": "afiU5l4mbcYC"
   },
   "outputs": [],
   "source": [
    "from sklearn.ensemble import RandomForestClassifier\n",
    "from sklearn.neighbors import KNeighborsClassifier\n",
    "from sklearn.svm import SVC\n",
    "from sklearn.model_selection import GridSearchCV\n",
    "from sklearn.metrics import accuracy_score, log_loss"
   ]
  },
  {
   "cell_type": "code",
   "execution_count": 26,
   "metadata": {
    "colab": {},
    "colab_type": "code",
    "id": "1k1wd_WFi25R"
   },
   "outputs": [],
   "source": [
    "models = [\n",
    "            'KNC',\n",
    "            'SVC',\n",
    "            'RFC',\n",
    "         ]\n",
    "\n",
    "clfs = [\n",
    "        KNeighborsClassifier(n_jobs=-1),\n",
    "        SVC(random_state=SEED, probability = True),\n",
    "        RandomForestClassifier(random_state=SEED,n_jobs=-1),\n",
    "        ]\n",
    "\n",
    "params = {\n",
    "            models[0]:{\n",
    "                       'n_neighbors':[3, 5, 10], \n",
    "                       'weights':[ 'uniform', 'distance'],\n",
    "                       'leaf_size':[10, 15, 30]\n",
    "                      },\n",
    "            models[1]:{\n",
    "                       'C':[1, 10], \n",
    "                       'kernel':['rbf'],\n",
    "                       'gamma':['auto']\n",
    "                      },\n",
    "            models[2]: {\n",
    "                        'n_estimators':[50, 100, 150], \n",
    "                        'bootstrap': [True, False], \n",
    "                        'min_samples_split':[2, 5, 10],\n",
    "                        'min_samples_leaf': [4]\n",
    "                        },\n",
    "\n",
    "         }"
   ]
  },
  {
   "cell_type": "markdown",
   "metadata": {
    "colab_type": "text",
    "id": "Bkad4-7VsP5I"
   },
   "source": [
    "### Делаем прогон на топах DFS"
   ]
  },
  {
   "cell_type": "code",
   "execution_count": 27,
   "metadata": {
    "colab": {},
    "colab_type": "code",
    "id": "_WtH_a0b8ZmO"
   },
   "outputs": [],
   "source": [
    "def clf_test (n_x_train, n_x_val):\n",
    "    y_test = 0\n",
    "    clf_scores = []\n",
    "    for name, estimator in zip(models,clfs):      \n",
    "        print(name)\n",
    "        clf = GridSearchCV(estimator, params[name], scoring='accuracy', refit='True', cv=5)\n",
    "        clf.fit(n_x_train, y_train)\n",
    "        print(\"best params: \" + str(clf.best_params_))\n",
    "        print(\"best scores: \" + str(clf.best_score_))\n",
    "        estimates = clf.predict_proba(n_x_val)\n",
    "        y_test+=estimates\n",
    "        acc = accuracy_score(y_val, clf.predict(n_x_val))\n",
    "        print(\"Accuracy for test: {:.4%}\".format(acc))\n",
    "    clf_scores.append((acc))"
   ]
  },
  {
   "cell_type": "code",
   "execution_count": 28,
   "metadata": {
    "colab": {
     "base_uri": "https://localhost:8080/",
     "height": 238
    },
    "colab_type": "code",
    "executionInfo": {
     "elapsed": 80926,
     "status": "ok",
     "timestamp": 1561391201067,
     "user": {
      "displayName": "Ольга Ильясова",
      "photoUrl": "https://lh5.googleusercontent.com/-mh-NAZZb6MI/AAAAAAAAAAI/AAAAAAAAJnU/HnY6p_kTvjU/s64/photo.jpg",
      "userId": "14806661162776024925"
     },
     "user_tz": -180
    },
    "id": "181n0KEkLWSi",
    "outputId": "89d69210-8bca-44e1-b5df-b1571520dcdc"
   },
   "outputs": [
    {
     "name": "stdout",
     "output_type": "stream",
     "text": [
      "num_tops:  400\n",
      "KNC\n",
      "best params: {'leaf_size': 10, 'n_neighbors': 5, 'weights': 'distance'}\n",
      "best scores: 0.8823529411764706\n",
      "Accuracy for test: 85.5204%\n",
      "SVC\n",
      "best params: {'C': 1, 'gamma': 'auto', 'kernel': 'rbf'}\n",
      "best scores: 0.8880090497737556\n",
      "Accuracy for test: 86.4253%\n",
      "RFC\n",
      "best params: {'bootstrap': False, 'min_samples_leaf': 4, 'min_samples_split': 2, 'n_estimators': 150}\n",
      "best scores: 0.8880090497737556\n",
      "Accuracy for test: 88.6878%\n"
     ]
    }
   ],
   "source": [
    "num_tops = 400\n",
    "tops = features_sorted [:num_tops]\n",
    "print('num_tops: ', num_tops )\n",
    "clf_test(X_train[tops],X_val[tops])"
   ]
  },
  {
   "cell_type": "markdown",
   "metadata": {
    "colab_type": "text",
    "id": "BADDUXNUCmKW"
   },
   "source": [
    "### на топах lightGBM"
   ]
  },
  {
   "cell_type": "code",
   "execution_count": null,
   "metadata": {
    "colab": {
     "base_uri": "https://localhost:8080/",
     "height": 221
    },
    "colab_type": "code",
    "executionInfo": {
     "elapsed": 93672,
     "status": "ok",
     "timestamp": 1561389269613,
     "user": {
      "displayName": "Ольга Ильясова",
      "photoUrl": "https://lh5.googleusercontent.com/-mh-NAZZb6MI/AAAAAAAAAAI/AAAAAAAAJnU/HnY6p_kTvjU/s64/photo.jpg",
      "userId": "14806661162776024925"
     },
     "user_tz": -180
    },
    "id": "P7Z2Glwtsc42",
    "outputId": "978bd106-3895-4fbb-aa97-0cbfb737651c"
   },
   "outputs": [
    {
     "name": "stdout",
     "output_type": "stream",
     "text": [
      "KNC\n",
      "best params: {'leaf_size': 10, 'n_neighbors': 3, 'weights': 'distance'}\n",
      "best scores: 0.8699095022624435\n",
      "Accuracy for test: 85.0679%\n",
      "SVC\n",
      "best params: {'C': 1, 'gamma': 'auto', 'kernel': 'rbf'}\n",
      "best scores: 0.8846153846153846\n",
      "Accuracy for test: 87.3303%\n",
      "RFC\n"
     ]
    }
   ],
   "source": [
    "X_removed_FS_train, X_removed_FS_val, y_train, y_val = train_test_split(X_removed_FS, y,test_size=0.2,\n",
    "                                                  random_state=SEED, stratify=y)\n",
    "\n",
    "clf_test(X_removed_FS_train, X_removed_FS_val)"
   ]
  },
  {
   "cell_type": "markdown",
   "metadata": {
    "colab_type": "text",
    "id": "8VBxH2KYI8Mz"
   },
   "source": [
    "# Вывод:\n",
    "Оба метода отбора дают сравнимый по качеству результат на протестированных моделях классификации"
   ]
  },
  {
   "cell_type": "code",
   "execution_count": 0,
   "metadata": {
    "colab": {},
    "colab_type": "code",
    "id": "D21IvGvCKQ0f"
   },
   "outputs": [],
   "source": []
  }
 ],
 "metadata": {
  "accelerator": "GPU",
  "colab": {
   "collapsed_sections": [],
   "name": "Копия deep_feature_selection.ipynb",
   "provenance": [],
   "version": "0.3.2"
  },
  "kernelspec": {
   "display_name": "Python 3",
   "language": "python",
   "name": "python3"
  },
  "language_info": {
   "codemirror_mode": {
    "name": "ipython",
    "version": 3
   },
   "file_extension": ".py",
   "mimetype": "text/x-python",
   "name": "python",
   "nbconvert_exporter": "python",
   "pygments_lexer": "ipython3",
   "version": "3.7.3"
  }
 },
 "nbformat": 4,
 "nbformat_minor": 1
}
